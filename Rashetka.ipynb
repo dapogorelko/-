{
 "cells": [
  {
   "cell_type": "code",
   "execution_count": 236,
   "id": "34ade3db-dcb7-4b76-85a8-34c2f9eb0e88",
   "metadata": {},
   "outputs": [],
   "source": [
    "import pandas as pd\n",
    "import numpy as np\n",
    "from sklearn.linear_model import LinearRegression\n",
    "from math import sqrt\n",
    "pd.options.mode.chained_assignment = None"
   ]
  },
  {
   "cell_type": "code",
   "execution_count": 261,
   "id": "aadf9608-1cdd-47b1-9005-5865b553c50a",
   "metadata": {
    "scrolled": true
   },
   "outputs": [],
   "source": [
    "data = pd.read_excel('C:/Users/Dmitry/Desktop/JN/University_studies/Rashetka/Data/Data.xlsx').dropna()\n",
    "data = data.transpose()\n",
    "data.columns = data.iloc[2]\n",
    "data = data.drop(index = (['Country Code','Series Name','Series Code','Country Name']))\n",
    "USA_data = data.iloc[:,:6]\n",
    "NOR_data = data.iloc[:,6:]\n",
    "N = len(USA_data.index)"
   ]
  },
  {
   "cell_type": "code",
   "execution_count": 262,
   "id": "6a8a2fa8-7b43-4a94-bc23-c031641ecc04",
   "metadata": {},
   "outputs": [],
   "source": [
    "for i in USA_data,NOR_data:\n",
    "    i.columns = ['Y','C','I','G','Im','Ex']\n",
    "for i in USA_data,NOR_data:\n",
    "    for j in i.columns:\n",
    "        i[j] = i[j].astype(float)"
   ]
  },
  {
   "cell_type": "code",
   "execution_count": 263,
   "id": "ad7a6f25-ca9f-4b2b-b9e7-725e5b770ff3",
   "metadata": {
    "scrolled": true
   },
   "outputs": [],
   "source": [
    "for i in USA_data,NOR_data:\n",
    "    for j in i.columns[1:]:\n",
    "        i.loc[:,j] = i.loc[:,j].astype(float)\n",
    "        i.loc[:,j] = (i.loc[:,j]/100)*i.loc[:,'Y']\n",
    "    i.loc[:,'Ex - Im'] = i.loc[:,'Ex'] - i.loc[:,'Im']"
   ]
  },
  {
   "cell_type": "code",
   "execution_count": 264,
   "id": "d5aa705e-dbe2-4e55-9e8f-a1698addc78d",
   "metadata": {
    "scrolled": true
   },
   "outputs": [],
   "source": [
    "trend_lin = list(range(1,N+1))\n",
    "trend_quad = [i**2 for i in trend_lin]\n",
    "for i in USA_data,NOR_data:\n",
    "    i.loc[:,'Linear'] = trend_lin\n",
    "    i.loc[:,'Quad'] = trend_quad"
   ]
  },
  {
   "cell_type": "code",
   "execution_count": 265,
   "id": "82edddea-923a-4a81-9fce-bd738cc4ed77",
   "metadata": {},
   "outputs": [],
   "source": [
    "def get_std(x,y):\n",
    "    result = pd.DataFrame(columns = ['Linear','Quad','Fact','Predict','Dev'])\n",
    "    result['Fact'] = y\n",
    "    result[['Linear','Quad']] = x.reshape(-1,2)\n",
    "    model = LinearRegression().fit(x,y)\n",
    "    result['Predict'] = result['Linear']*model.coef_[0] + result['Quad']*model.coef_[1] + model.intercept_\n",
    "    result['Dev'] = result['Fact'] - result['Predict']\n",
    "    std = sqrt(N/(N-3))*result['Dev'].std(ddof=0)\n",
    "    return std"
   ]
  },
  {
   "cell_type": "code",
   "execution_count": 270,
   "id": "96b3420d-46bd-4db9-99a9-86e3e47d1e9b",
   "metadata": {},
   "outputs": [],
   "source": [
    "x = np.array(USA_data.loc[:,['Linear','Quad']]).reshape((-1,2))\n",
    "stds = pd.DataFrame(columns = ['USA','NOR'],index=range(1, 8))\n",
    "stds.index = ['STDy','STDcy','STDiy','STDgy','STDmy','STDxy','STDtby']\n",
    "for elem,i in enumerate([USA_data,NOR_data]):\n",
    "    for k,j in enumerate(i.columns[:-3]):\n",
    "        y = np.log(i.loc[:,j])\n",
    "        if j == 'Y':\n",
    "            stds.iloc[k,elem] = get_std(x,y)\n",
    "        else:\n",
    "            stds.iloc[k,elem] = get_std(x,y)/stds.iloc[0,elem]"
   ]
  },
  {
   "cell_type": "code",
   "execution_count": 271,
   "id": "aca92482-bb82-48b0-9fba-ce4e672d1557",
   "metadata": {},
   "outputs": [
    {
     "data": {
      "text/html": [
       "<div>\n",
       "<style scoped>\n",
       "    .dataframe tbody tr th:only-of-type {\n",
       "        vertical-align: middle;\n",
       "    }\n",
       "\n",
       "    .dataframe tbody tr th {\n",
       "        vertical-align: top;\n",
       "    }\n",
       "\n",
       "    .dataframe thead th {\n",
       "        text-align: right;\n",
       "    }\n",
       "</style>\n",
       "<table border=\"1\" class=\"dataframe\">\n",
       "  <thead>\n",
       "    <tr style=\"text-align: right;\">\n",
       "      <th></th>\n",
       "      <th>USA</th>\n",
       "      <th>NOR</th>\n",
       "    </tr>\n",
       "  </thead>\n",
       "  <tbody>\n",
       "    <tr>\n",
       "      <th>STDy</th>\n",
       "      <td>0.027456</td>\n",
       "      <td>0.029465</td>\n",
       "    </tr>\n",
       "    <tr>\n",
       "      <th>STDcy</th>\n",
       "      <td>1.117438</td>\n",
       "      <td>1.881741</td>\n",
       "    </tr>\n",
       "    <tr>\n",
       "      <th>STDiy</th>\n",
       "      <td>3.025693</td>\n",
       "      <td>3.843484</td>\n",
       "    </tr>\n",
       "    <tr>\n",
       "      <th>STDgy</th>\n",
       "      <td>1.693051</td>\n",
       "      <td>2.053571</td>\n",
       "    </tr>\n",
       "    <tr>\n",
       "      <th>STDmy</th>\n",
       "      <td>3.67849</td>\n",
       "      <td>2.726582</td>\n",
       "    </tr>\n",
       "    <tr>\n",
       "      <th>STDxy</th>\n",
       "      <td>4.008546</td>\n",
       "      <td>3.819132</td>\n",
       "    </tr>\n",
       "    <tr>\n",
       "      <th>STDtby</th>\n",
       "      <td>NaN</td>\n",
       "      <td>NaN</td>\n",
       "    </tr>\n",
       "  </tbody>\n",
       "</table>\n",
       "</div>"
      ],
      "text/plain": [
       "             USA       NOR\n",
       "STDy    0.027456  0.029465\n",
       "STDcy   1.117438  1.881741\n",
       "STDiy   3.025693  3.843484\n",
       "STDgy   1.693051  2.053571\n",
       "STDmy    3.67849  2.726582\n",
       "STDxy   4.008546  3.819132\n",
       "STDtby       NaN       NaN"
      ]
     },
     "execution_count": 271,
     "metadata": {},
     "output_type": "execute_result"
    }
   ],
   "source": [
    "corrs = pd.DataFrame(columns = ['USA','NOR'],index=range(1, 8))\n",
    "corrs.index = ['CRRy','CRRcy','CRRiy','CRRgyy','CRRmy','STDxy','STDtby']"
   ]
  }
 ],
 "metadata": {
  "kernelspec": {
   "display_name": "Python 3 (ipykernel)",
   "language": "python",
   "name": "python3"
  },
  "language_info": {
   "codemirror_mode": {
    "name": "ipython",
    "version": 3
   },
   "file_extension": ".py",
   "mimetype": "text/x-python",
   "name": "python",
   "nbconvert_exporter": "python",
   "pygments_lexer": "ipython3",
   "version": "3.11.5"
  }
 },
 "nbformat": 4,
 "nbformat_minor": 5
}
