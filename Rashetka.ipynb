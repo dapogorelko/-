{
 "cells": [
  {
   "cell_type": "code",
   "execution_count": null,
   "id": "34ade3db-dcb7-4b76-85a8-34c2f9eb0e88",
   "metadata": {},
   "outputs": [],
   "source": [
    "# используемые библиотеки\n",
    "import pandas as pd\n",
    "import numpy as np\n",
    "from sklearn.linear_model import LinearRegression\n",
    "from math import sqrt\n",
    "import statsmodels.api as sm\n",
    "pd.options.mode.chained_assignment = None"
   ]
  },
  {
   "cell_type": "code",
   "execution_count": 204,
   "id": "aadf9608-1cdd-47b1-9005-5865b553c50a",
   "metadata": {
    "scrolled": true
   },
   "outputs": [],
   "source": [
    "# обработка данных\n",
    "data = pd.read_excel('C:/Users/Dmitry/Desktop/JN/University_studies/Rashetka/Data/Data.xlsx').dropna()\n",
    "data = data.transpose()\n",
    "data.columns = data.iloc[2]\n",
    "data = data.drop(index = (['Country Code','Series Name','Series Code','Country Name']))\n",
    "USA_data = data.iloc[:,:6]\n",
    "NOR_data = data.iloc[:,6:]\n",
    "N = len(USA_data.index)"
   ]
  },
  {
   "cell_type": "code",
   "execution_count": 212,
   "id": "6a8a2fa8-7b43-4a94-bc23-c031641ecc04",
   "metadata": {},
   "outputs": [],
   "source": [
    "# переобозначение переменных и создание пронумерованного временного ряда\n",
    "for i in USA_data,NOR_data:\n",
    "    i.columns = ['Y','C','I','G','Im','Ex']\n",
    "for i in USA_data,NOR_data:\n",
    "    for j in i.columns:\n",
    "        i[j] = i[j].astype(float)\n",
    "x_quad = np.concatenate((np.array(list(range(1,N+1))).reshape((-1,1)),np.array([i**2 for i in range(1,N+1)]).reshape((-1,1))),axis = 1)\n",
    "x_lin = np.array(list(range(1,N+1))).reshape((-1,1))"
   ]
  },
  {
   "cell_type": "code",
   "execution_count": 213,
   "id": "7d808641-f1fb-499b-bc67-3c1aa9969e81",
   "metadata": {},
   "outputs": [],
   "source": [
    "# выбор страны и переход к абсолютным величинам\n",
    "df = NOR_data.copy()\n",
    "for j in df.columns[1:]:\n",
    "    df.loc[:,j] = (df.loc[:,j]/100)*df.loc[:,'Y']"
   ]
  },
  {
   "cell_type": "code",
   "execution_count": 214,
   "id": "82edddea-923a-4a81-9fce-bd738cc4ed77",
   "metadata": {},
   "outputs": [],
   "source": [
    "# создание функции которая запоминает ряд ошибок регрессии\n",
    "def get_dev(y,lin):\n",
    "    if lin == 1:\n",
    "        result_lin = pd.DataFrame(columns = ['Linear','Fact','Predict','Dev'])\n",
    "        result_lin['Fact'] = y\n",
    "        result_lin['Linear'] = x_lin.reshape(-1,1)\n",
    "        model = LinearRegression().fit(x_lin,y)\n",
    "        result_lin['Predict'] = result_lin['Linear']*model.coef_ + model.intercept_\n",
    "        result_lin['Dev'] = result_lin['Fact'] - result_lin['Predict']\n",
    "        return result_lin['Dev']\n",
    "    else:\n",
    "        result = pd.DataFrame(columns = ['Linear','Quad','Fact','Predict','Dev'])\n",
    "        result['Fact'] = y\n",
    "        result[['Linear','Quad']] = x_quad.reshape(-1,2)\n",
    "        model = LinearRegression().fit(x_quad,y)\n",
    "        result['Predict'] = result['Linear']*model.coef_[0] + result['Quad']*model.coef_[1] + model.intercept_\n",
    "        result['Dev'] = result['Fact'] - result['Predict']\n",
    "        return result['Dev']"
   ]
  },
  {
   "cell_type": "code",
   "execution_count": 215,
   "id": "4cc7a154-3c74-4e75-8330-a00b46102d03",
   "metadata": {},
   "outputs": [],
   "source": [
    "# заполнение очищенных от тренда данных по переменным для разных способов выделения тренда\n",
    "cycle_lin = pd.DataFrame(columns = ['Y','C','G','I','Ex','Im','TB/Y','G/Y','TB','(X+M)/Y'],index = df.index, dtype = float)\n",
    "cycle_quad = pd.DataFrame(columns = ['Y','C','G','I','Ex','Im','TB/Y','G/Y','TB','(X+M)/Y'],index = df.index, dtype = float)\n",
    "cycle_hp100 = pd.DataFrame(columns = ['Y','C','G','I','Ex','Im','TB/Y','G/Y','TB','(X+M)/Y'],index = df.index, dtype = float)\n",
    "cycle_hp6_25 = pd.DataFrame(columns = ['Y','C','G','I','Ex','Im','TB/Y','G/Y','TB','(X+M)/Y'],index = df.index, dtype = float)\n",
    "\n",
    "for i in ['Y','C','G','I','Ex','Im']:\n",
    "    y = np.log(df.loc[:,i])\n",
    "    cycle_lin.loc[:,i] = get_dev(y,1)\n",
    "    cycle_quad.loc[:,i] = get_dev(y,0)\n",
    "    cycle_hp100.loc[:,i] = sm.tsa.filters.hpfilter(y, 100)[0]\n",
    "    cycle_hp6_25.loc[:,i] = sm.tsa.filters.hpfilter(y, 6.25)[0]\n",
    "    \n",
    "y_tby = (df.loc[:,'Ex'] - df.loc[:,'Im'])/df.loc[:,'Y']\n",
    "cycle_lin.loc[:,'TB/Y'], cycle_quad.loc[:,'TB/Y'], cycle_hp100.loc[:,'TB/Y'], cycle_hp6_25.loc[:,'TB/Y']= get_dev(y_tby,1), get_dev(y_tby,0), sm.tsa.filters.hpfilter(y_tby, 100)[0], sm.tsa.filters.hpfilter(y_tby, 6.25)[0]\n",
    "\n",
    "for i in [cycle_lin,cycle_quad,cycle_hp100,cycle_hp6_25]:\n",
    "    i.loc[:,'G/Y'] = i.loc[:,'G']/i.loc[:,'Y']\n",
    "\n",
    "for i in [cycle_lin,cycle_quad,cycle_hp100,cycle_hp6_25]:\n",
    "    i.loc[:,'TB'] = i.loc[:,'Ex'] - i.loc[:,'Im']\n",
    "\n",
    "\n",
    "for i in [cycle_lin,cycle_quad,cycle_hp100,cycle_hp6_25]:\n",
    "    i.loc[:,'(X+M)/Y'] = (i.loc[:,'Ex'] + i.loc[:,'Im'])/i.loc[:,'Y']"
   ]
  },
  {
   "cell_type": "code",
   "execution_count": 216,
   "id": "96b3420d-46bd-4db9-99a9-86e3e47d1e9b",
   "metadata": {
    "scrolled": true
   },
   "outputs": [],
   "source": [
    "stds = pd.DataFrame(columns = ['lin','quad','hp100','hp6.25'],index = ['Y','C','G','I','Ex','Im','TB/Y'])\n",
    "corrs = pd.DataFrame(columns = ['lin','quad','hp100','hp6.25'],index = ['Y','C','G/Y','I','Ex','Im','TB/Y','TB'])\n",
    "scorrs = pd.DataFrame(columns = ['lin','quad','hp100','hp6.25'],index = ['Y','C','G','I','Ex','Im','TB/Y'])\n",
    "means = pd.DataFrame(columns = ['lin','quad','hp100','hp6.25'],index = ['TB/Y','(X+M)/Y'])\n",
    "\n",
    "for i,elem in enumerate(['Y','C','G','I','Ex','Im','TB/Y']):\n",
    "    if elem == 'Y' or elem == 'TB/Y':\n",
    "        stds.iloc[i,0] = sqrt(N/(N-2))*cycle_lin[elem].std(ddof=0)\n",
    "        stds.iloc[i,1] = sqrt(N/(N-3))*cycle_quad[elem].std(ddof=0)\n",
    "        stds.iloc[i,2] = cycle_hp100[elem].std(ddof=0)\n",
    "        stds.iloc[i,3] = cycle_hp6_25[elem].std(ddof=0)\n",
    "    else:\n",
    "        stds.iloc[i,0] = sqrt(N/(N-2))*cycle_lin[elem].std(ddof=0)/stds.iloc[0,0]\n",
    "        stds.iloc[i,1] = sqrt(N/(N-3))*cycle_quad[elem].std(ddof=0)/stds.iloc[0,1]\n",
    "        stds.iloc[i,2] = cycle_hp100[elem].std(ddof=0)/stds.iloc[0,2]\n",
    "        stds.iloc[i,3] = cycle_hp6_25[elem].std(ddof=0)/stds.iloc[0,3]\n",
    "\n",
    "for i,elem in enumerate(['Y','C','G/Y','I','Ex','Im','TB/Y','TB']):\n",
    "    for h,k in enumerate([cycle_lin,cycle_quad,cycle_hp100,cycle_hp6_25]):\n",
    "        corrs.iloc[i,h] = k[elem].corr(k['Y'],method = 'pearson')\n",
    "\n",
    "for i,elem in enumerate(['Y','C','G','I','Ex','Im','TB/Y']):\n",
    "    for h,k in enumerate([cycle_lin,cycle_quad,cycle_hp100,cycle_hp6_25]):\n",
    "        scorrs.iloc[i,h] = sm.tsa.acf(k[elem],nlags = 2)[1]\n",
    "\n",
    "for i,elem in enumerate(['TB/Y','(X+M)/Y']):\n",
    "    for h,k in enumerate([cycle_lin,cycle_quad,cycle_hp100,cycle_hp6_25]):\n",
    "        means.iloc[i,h] = k[elem].mean()"
   ]
  },
  {
   "cell_type": "code",
   "execution_count": 217,
   "id": "e53f8d71-111b-4e83-af35-5e1077e2a944",
   "metadata": {},
   "outputs": [],
   "source": [
    "stds.index = ['δy','δc/δy','δg/δy','δi/δy','δx/δy','δm/δy','δtb/y']"
   ]
  },
  {
   "cell_type": "code",
   "execution_count": 218,
   "id": "949a9740-02c5-4f48-b111-2ea916299d02",
   "metadata": {},
   "outputs": [],
   "source": [
    "with pd.ExcelWriter('C:/Users/Dmitry/Desktop/JN/University_studies/Rashetka/Output/Norway.xlsx') as writer:  \n",
    "    stds.to_excel(writer, sheet_name='Standard Deviations')\n",
    "    corrs.to_excel(writer, sheet_name='Correlations with y')\n",
    "    scorrs.to_excel(writer, sheet_name='Serial Correlations')\n",
    "    means.to_excel(writer, sheet_name='Means')"
   ]
  }
 ],
 "metadata": {
  "kernelspec": {
   "display_name": "Python 3 (ipykernel)",
   "language": "python",
   "name": "python3"
  },
  "language_info": {
   "codemirror_mode": {
    "name": "ipython",
    "version": 3
   },
   "file_extension": ".py",
   "mimetype": "text/x-python",
   "name": "python",
   "nbconvert_exporter": "python",
   "pygments_lexer": "ipython3",
   "version": "3.11.5"
  }
 },
 "nbformat": 4,
 "nbformat_minor": 5
}
